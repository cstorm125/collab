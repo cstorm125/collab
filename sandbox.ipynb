{
 "cells": [
  {
   "cell_type": "markdown",
   "metadata": {},
   "source": [
    "## Recommendation with Embeddings and Multi-layer Perceptrons"
   ]
  },
  {
   "cell_type": "markdown",
   "metadata": {},
   "source": [
    "This is a Pytroch implementation of a recommendation model introduced in [Deep Neural Networks for YouTube Recommendations](https://static.googleusercontent.com/media/research.google.com/en//pubs/archive/45530.pdf) using [MovieLens 100k](https://grouplens.org/datasets/movielens/100k/) (`ml-100k`)."
   ]
  },
  {
   "cell_type": "markdown",
   "metadata": {},
   "source": [
    "## Imports"
   ]
  },
  {
   "cell_type": "code",
   "execution_count": 1,
   "metadata": {},
   "outputs": [],
   "source": [
    "%matplotlib inline\n",
    "\n",
    "import pandas as pd\n",
    "import numpy as np\n",
    "import matplotlib.pyplot as plt\n",
    "import random\n",
    "from tqdm import tqdm_notebook\n",
    "from copy import deepcopy\n",
    "\n",
    "import torch\n",
    "import torch.nn as nn\n",
    "import torch.nn.functional as F\n",
    "from torch.utils.data import DataLoader, Dataset\n",
    "device = torch.device(\"cuda:0\" if torch.cuda.is_available() else \"cpu\")\n",
    "\n",
    "data_path = 'data/ml-100k/'"
   ]
  },
  {
   "cell_type": "markdown",
   "metadata": {},
   "source": [
    "## Data Processing"
   ]
  },
  {
   "cell_type": "markdown",
   "metadata": {},
   "source": [
    "There are 5 dataset pairs for training and validation of `ml-100k` dataset. We normalize the user and item index to start from 0 to comply with Python's style. The training set consists of 80,000 user-item-rating tuples and the validation set consists of 20,000 such tuples."
   ]
  },
  {
   "cell_type": "code",
   "execution_count": 2,
   "metadata": {},
   "outputs": [],
   "source": [
    "val_idx = 1 #which dataset pair to use\n",
    "nb_users = 943 #total number of users\n",
    "nb_items = 1682 #total number of items"
   ]
  },
  {
   "cell_type": "code",
   "execution_count": 3,
   "metadata": {},
   "outputs": [
    {
     "data": {
      "text/plain": [
       "((80000, 4), (20000, 4))"
      ]
     },
     "execution_count": 3,
     "metadata": {},
     "output_type": "execute_result"
    }
   ],
   "source": [
    "train_df = pd.read_csv(f'{data_path}u{val_idx}.base',sep='\\t',header=None)\n",
    "train_df.columns = ['user_id','item_id','rating','ts']\n",
    "train_df['user_id'] = train_df['user_id'] -1 #start index at 0\n",
    "train_df['item_id'] = train_df['item_id'] -1\n",
    "valid_df = pd.read_csv(f'{data_path}u{val_idx}.test',sep='\\t',header=None)\n",
    "valid_df.columns = ['user_id','item_id','rating','ts']\n",
    "valid_df['user_id'] = valid_df['user_id'] -1 #start index at 0\n",
    "valid_df['item_id'] = valid_df['item_id'] -1\n",
    "train_df.shape, valid_df.shape"
   ]
  },
  {
   "cell_type": "markdown",
   "metadata": {},
   "source": [
    "We found that all users are in the training set so we should have no out-of-sample problem with the user embeddings."
   ]
  },
  {
   "cell_type": "code",
   "execution_count": 4,
   "metadata": {},
   "outputs": [
    {
     "data": {
      "text/plain": [
       "(943, 459)"
      ]
     },
     "execution_count": 4,
     "metadata": {},
     "output_type": "execute_result"
    }
   ],
   "source": [
    "#check number of unique users in both training and test set\n",
    "train_users = train_df.user_id.unique()\n",
    "valid_users = valid_df.user_id.unique()\n",
    "len(train_users),len(valid_users)"
   ]
  },
  {
   "cell_type": "code",
   "execution_count": 5,
   "metadata": {},
   "outputs": [
    {
     "data": {
      "text/plain": [
       "459"
      ]
     },
     "execution_count": 5,
     "metadata": {},
     "output_type": "execute_result"
    }
   ],
   "source": [
    "i = 0\n",
    "for u in valid_users:\n",
    "    if u in train_users: i+=1\n",
    "i"
   ]
  },
  {
   "cell_type": "markdown",
   "metadata": {},
   "source": [
    "However, we found that out of 1,410 items in the validation set only 1,378 items exist in the training set. This will affect when we predict ratings of those unseen items in the validation set."
   ]
  },
  {
   "cell_type": "code",
   "execution_count": 6,
   "metadata": {},
   "outputs": [
    {
     "data": {
      "text/plain": [
       "(1650, 1410)"
      ]
     },
     "execution_count": 6,
     "metadata": {},
     "output_type": "execute_result"
    }
   ],
   "source": [
    "train_items = train_df.item_id.unique()\n",
    "valid_items = valid_df.item_id.unique()\n",
    "len(train_items),len(valid_items)"
   ]
  },
  {
   "cell_type": "code",
   "execution_count": 7,
   "metadata": {},
   "outputs": [
    {
     "data": {
      "text/plain": [
       "1378"
      ]
     },
     "execution_count": 7,
     "metadata": {},
     "output_type": "execute_result"
    }
   ],
   "source": [
    "i = 0\n",
    "for u in valid_items:\n",
    "    if u in train_items: i+=1\n",
    "i"
   ]
  },
  {
   "cell_type": "markdown",
   "metadata": {},
   "source": [
    "## Dataset"
   ]
  },
  {
   "cell_type": "markdown",
   "metadata": {},
   "source": [
    "We create a Pytorch dataset object that returns the tuple of `(user,item,rating)` tensors based on the dataframe we read in. From those datasets, we can load data in batch by converting them to Pytorch dataloader objects. Here we set the batch size to 2000."
   ]
  },
  {
   "cell_type": "code",
   "execution_count": 8,
   "metadata": {},
   "outputs": [],
   "source": [
    "class CollabRatingDataset(Dataset):\n",
    "    def __init__(self, df, user_col=0, item_col=1, rating_col=2):\n",
    "        self.df = df\n",
    "        self.user_tensor = torch.tensor(self.df.iloc[:,user_col], dtype=torch.long, device = device)\n",
    "        self.item_tensor = torch.tensor(self.df.iloc[:,item_col], dtype=torch.long, device = device)\n",
    "        self.target_tensor = torch.tensor(self.df.iloc[:,rating_col], dtype=torch.float32, device = device)\n",
    "        \n",
    "    def __getitem__(self, index):\n",
    "        return(self.user_tensor[index], self.item_tensor[index], self.target_tensor[index])\n",
    "\n",
    "    def __len__(self):\n",
    "        return(self.user_tensor.shape[0])"
   ]
  },
  {
   "cell_type": "code",
   "execution_count": 9,
   "metadata": {},
   "outputs": [],
   "source": [
    "bs = 2000\n",
    "train_ds = CollabRatingDataset(train_df)\n",
    "train_dl = DataLoader(train_ds, batch_size=bs, shuffle=True, num_workers=4)\n",
    "valid_ds = CollabRatingDataset(valid_df)\n",
    "valid_dl = DataLoader(valid_ds, batch_size=bs, shuffle=True, num_workers=4)"
   ]
  },
  {
   "cell_type": "code",
   "execution_count": 10,
   "metadata": {},
   "outputs": [
    {
     "data": {
      "text/plain": [
       "(80000, 20000, 40, 10)"
      ]
     },
     "execution_count": 10,
     "metadata": {},
     "output_type": "execute_result"
    }
   ],
   "source": [
    "len(train_ds),len(valid_ds),len(train_dl),len(valid_dl)"
   ]
  },
  {
   "cell_type": "code",
   "execution_count": 11,
   "metadata": {},
   "outputs": [
    {
     "data": {
      "text/plain": [
       "(tensor([0, 0, 0]), tensor([0, 1, 2]), tensor([5., 3., 4.]))"
      ]
     },
     "execution_count": 11,
     "metadata": {},
     "output_type": "execute_result"
    }
   ],
   "source": [
    "train_ds[:3]"
   ]
  },
  {
   "cell_type": "code",
   "execution_count": 12,
   "metadata": {},
   "outputs": [
    {
     "data": {
      "text/plain": [
       "[tensor([ 93, 373, 789,  ..., 898, 233, 730]),\n",
       " tensor([  89,  824,   82,  ...,  171, 1100, 1086]),\n",
       " tensor([3., 3., 3.,  ..., 4., 3., 1.])]"
      ]
     },
     "execution_count": 12,
     "metadata": {},
     "output_type": "execute_result"
    }
   ],
   "source": [
    "next(iter(train_dl))"
   ]
  },
  {
   "cell_type": "markdown",
   "metadata": {},
   "source": [
    "## Architecture"
   ]
  },
  {
   "cell_type": "markdown",
   "metadata": {},
   "source": [
    "Our architecture consists of two parts:\n",
    "1. **Embedding Layers** to convert user and item indice to embedding vectors\n",
    "2. **Fully-connected Layers** to take input of concatenated embedding vectors and output the rating"
   ]
  },
  {
   "cell_type": "code",
   "execution_count": 13,
   "metadata": {},
   "outputs": [],
   "source": [
    "class CollabNet(nn.Module):\n",
    "    def __init__(self, config):\n",
    "        super(CollabNet, self).__init__()\n",
    "        #hyperparameters\n",
    "        self.config = config\n",
    "        self.nb_users = config['nb_users']\n",
    "        self.nb_items = config['nb_items']\n",
    "        self.emb_sz = config['emb_sz']\n",
    "        self.emb_p = config['emb_p']\n",
    "        self.fc_sz = config['fc_sz']\n",
    "        self.ps = config['ps']\n",
    "        self.y_range = config['y_range']\n",
    "\n",
    "        #embeddings\n",
    "        self.emb_user = nn.Sequential(\n",
    "            nn.Embedding(num_embeddings=self.nb_users, embedding_dim=self.emb_sz),\n",
    "            nn.Dropout(p=self.emb_p))\n",
    "        self.emb_item = nn.Sequential(\n",
    "            nn.Embedding(num_embeddings=self.nb_items, embedding_dim=self.emb_sz),\n",
    "            nn.Dropout(p=self.emb_p))\n",
    "\n",
    "        #fully-connected layers\n",
    "        fc_layers_list = []\n",
    "        for ni,nf,p in zip(self.fc_sz[:-1], self.fc_sz[1:], self.ps):\n",
    "            fc_layers_list.append(nn.Linear(ni, nf))\n",
    "            fc_layers_list.append(nn.ReLU(inplace=True))\n",
    "            fc_layers_list.append(nn.BatchNorm1d(nf))\n",
    "            fc_layers_list.append(nn.Dropout(p=p))\n",
    "        self.fc_layers = nn.Sequential(*fc_layers_list)\n",
    "\n",
    "        #output head\n",
    "        self.head = torch.nn.Linear(in_features=self.fc_sz[-1], out_features=1)\n",
    "\n",
    "    def forward(self, user_idx, item_idx):\n",
    "        user_emb = self.emb_user(user_idx)\n",
    "        item_emb = self.emb_item(item_idx)\n",
    "        x = torch.cat([user_emb, item_emb], dim=1)\n",
    "        x = self.fc_layers(x)\n",
    "        x = torch.sigmoid(self.head(x))\n",
    "        x = x * (self.y_range[1] - self.y_range[0]) + self.y_range[0]\n",
    "        return(x)"
   ]
  },
  {
   "cell_type": "code",
   "execution_count": 28,
   "metadata": {},
   "outputs": [
    {
     "data": {
      "text/plain": [
       "CollabNet(\n",
       "  (emb_user): Sequential(\n",
       "    (0): Embedding(943, 50)\n",
       "    (1): Dropout(p=0.05)\n",
       "  )\n",
       "  (emb_item): Sequential(\n",
       "    (0): Embedding(1682, 50)\n",
       "    (1): Dropout(p=0.05)\n",
       "  )\n",
       "  (fc_layers): Sequential(\n",
       "    (0): Linear(in_features=100, out_features=200, bias=True)\n",
       "    (1): ReLU(inplace)\n",
       "    (2): BatchNorm1d(200, eps=1e-05, momentum=0.1, affine=True, track_running_stats=True)\n",
       "    (3): Dropout(p=0.5)\n",
       "    (4): Linear(in_features=200, out_features=100, bias=True)\n",
       "    (5): ReLU(inplace)\n",
       "    (6): BatchNorm1d(100, eps=1e-05, momentum=0.1, affine=True, track_running_stats=True)\n",
       "    (7): Dropout(p=0.25)\n",
       "  )\n",
       "  (head): Linear(in_features=100, out_features=1, bias=True)\n",
       ")"
      ]
     },
     "execution_count": 28,
     "metadata": {},
     "output_type": "execute_result"
    }
   ],
   "source": [
    "config = {\n",
    "    'nb_users':943, #how many unique users\n",
    "    'nb_items':1682, #how many unique items\n",
    "    'emb_sz':50, #size of embedding vector\n",
    "    'emb_p': 0.05, #dropout for embedding\n",
    "    'fc_sz': [100, 200, 100], #size of fully-connected layers\n",
    "    'ps': [0.5,0.25], #dropout for fully-connected layers\n",
    "    'y_range': [0.5,5]} #range of output\n",
    "model = CollabNet(config)\n",
    "model"
   ]
  },
  {
   "cell_type": "markdown",
   "metadata": {},
   "source": [
    "## Training"
   ]
  },
  {
   "cell_type": "code",
   "execution_count": 35,
   "metadata": {},
   "outputs": [],
   "source": [
    "#hyperparameters\n",
    "bs = 2000 #batch size\n",
    "lr = 5e-3 #learning rate\n",
    "wd = 1e-1 #weight decay parameter\n",
    "nb_epoch = 100 #how many epochs to train\n",
    "reduce_lr = 3 #reduce learning rate if loss stagnates more than x epochs\n",
    "early_stop = 10 #stop if validation loss doesnt improve for x epochs\n",
    "\n",
    "config = {\n",
    "    'nb_users':943, #how many unique users\n",
    "    'nb_items':1682, #how many unique items\n",
    "    'emb_sz':50, #size of embedding vector\n",
    "    'emb_p': 0.05, #dropout for embedding\n",
    "    'fc_sz': [100, 200, 100], #size of fully-connected layers\n",
    "    'ps': [0.5,0.25], #dropout for fully-connected layers\n",
    "    'y_range': [0.5,5]} #range of output\n",
    "\n",
    "#recording\n",
    "lrs = []\n",
    "train_losses=[]\n",
    "valid_losses = []\n",
    "best_loss = np.inf\n",
    "best_weights = None\n",
    "\n",
    "#datasets/loaders\n",
    "train_ds = CollabRatingDataset(train_df)\n",
    "train_dl = DataLoader(train_ds, batch_size=bs, shuffle=True, num_workers=4)\n",
    "valid_ds = CollabRatingDataset(valid_df)\n",
    "valid_dl = DataLoader(valid_ds, batch_size=bs, shuffle=True, num_workers=4)\n",
    "\n",
    "#model\n",
    "model = CollabNet(config)\n",
    "crit = nn.MSELoss(reduction='sum')\n",
    "optim = torch.optim.Adam(model.parameters(), lr=lr, betas=(0.9,0.999), weight_decay=wd)\n",
    "scheduler = torch.optim.lr_scheduler.ReduceLROnPlateau(optim, mode='min',factor=0.1, patience=reduce_lr)"
   ]
  },
  {
   "cell_type": "code",
   "execution_count": 36,
   "metadata": {},
   "outputs": [
    {
     "data": {
      "application/vnd.jupyter.widget-view+json": {
       "model_id": "e0ccf769a95b48b3a3b6a830e44732c7",
       "version_major": 2,
       "version_minor": 0
      },
      "text/plain": [
       "HBox(children=(IntProgress(value=0), HTML(value='')))"
      ]
     },
     "metadata": {},
     "output_type": "display_data"
    },
    {
     "name": "stdout",
     "output_type": "stream",
     "text": [
      "Epoch 0 Train loss: 1.3400257873535155; Valid loss: 1.1805909057617188; Learning rate: 0.005\n",
      "Epoch 1 Train loss: 1.0804030364990234; Valid loss: 1.0588778442382814; Learning rate: 0.005\n",
      "Epoch 2 Train loss: 0.9946304336547852; Valid loss: 1.0052079223632813; Learning rate: 0.005\n",
      "Epoch 3 Train loss: 0.9374982849121094; Valid loss: 0.9615822509765625; Learning rate: 0.005\n",
      "Epoch 4 Train loss: 0.8981044143676757; Valid loss: 0.9366027648925781; Learning rate: 0.005\n",
      "Epoch 5 Train loss: 0.8791514862060547; Valid loss: 0.9231487487792969; Learning rate: 0.005\n",
      "Epoch 6 Train loss: 0.8594600601196289; Valid loss: 0.9114248413085938; Learning rate: 0.005\n",
      "Epoch 7 Train loss: 0.8476031692504883; Valid loss: 0.9045781677246094; Learning rate: 0.005\n",
      "Epoch 8 Train loss: 0.8395495071411133; Valid loss: 0.900566796875; Learning rate: 0.005\n",
      "Epoch 9 Train loss: 0.8270248565673828; Valid loss: 0.902170751953125; Learning rate: 0.005\n",
      "Epoch 10 Train loss: 0.8179320281982422; Valid loss: 0.8944936828613281; Learning rate: 0.005\n",
      "Epoch 11 Train loss: 0.8102622024536132; Valid loss: 0.8959590698242188; Learning rate: 0.005\n",
      "Epoch 12 Train loss: 0.7972536422729493; Valid loss: 0.8942468872070313; Learning rate: 0.005\n",
      "Epoch 13 Train loss: 0.7845887222290039; Valid loss: 0.8933734191894531; Learning rate: 0.005\n",
      "Epoch 14 Train loss: 0.7687505828857422; Valid loss: 0.894764013671875; Learning rate: 0.005\n",
      "Epoch 15 Train loss: 0.7514848403930664; Valid loss: 0.8979535461425782; Learning rate: 0.005\n",
      "Epoch 16 Train loss: 0.7325809249877929; Valid loss: 0.899870654296875; Learning rate: 0.005\n",
      "Epoch 17 Train loss: 0.7179603713989258; Valid loss: 0.8998077026367187; Learning rate: 0.005\n",
      "Epoch 18 Train loss: 0.6686283813476562; Valid loss: 0.8954455993652344; Learning rate: 0.0005\n",
      "Epoch 19 Train loss: 0.6612148941040039; Valid loss: 0.8972874389648438; Learning rate: 0.0005\n",
      "Epoch 20 Train loss: 0.6503216567993164; Valid loss: 0.9000112976074218; Learning rate: 0.0005\n",
      "Epoch 21 Train loss: 0.6449407684326172; Valid loss: 0.9012856262207031; Learning rate: 0.0005\n",
      "Epoch 22 Train loss: 0.6401598190307617; Valid loss: 0.9022491760253907; Learning rate: 5e-05\n",
      "Epoch 23 Train loss: 0.6397490951538086; Valid loss: 0.9025783630371094; Learning rate: 5e-05\n",
      "early stopping after epoch 23\n"
     ]
    }
   ],
   "source": [
    "#training\n",
    "for e in tqdm_notebook(range(nb_epoch)): \n",
    "    #train\n",
    "    model.train()\n",
    "    train_loss = 0\n",
    "    for u,i,r in train_dl:\n",
    "        #prediction\n",
    "        r_pred = model(u,i)\n",
    "        r = r[:,None]\n",
    "        \n",
    "        #loss\n",
    "        loss = crit(r_pred,r)\n",
    "        \n",
    "        #backprop\n",
    "        optim.zero_grad()\n",
    "        loss.backward()\n",
    "        optim.step()\n",
    "        train_loss+= loss.detach().item()\n",
    "    #record\n",
    "    current_lr = scheduler.optimizer.param_groups[0]['lr']\n",
    "    lrs.append(current_lr)\n",
    "    train_loss /= len(train_ds)\n",
    "    train_losses.append(train_loss)\n",
    "    \n",
    "    #valid\n",
    "    model.eval()\n",
    "    valid_loss = 0\n",
    "    for u,i,r in valid_dl:\n",
    "        r_pred = model(u,i)\n",
    "        r = r[:,None]\n",
    "        loss = crit(r_pred,r)\n",
    "        valid_loss+=loss.detach().item()\n",
    "    valid_loss/=len(valid_ds)\n",
    "    #record\n",
    "    valid_losses.append(valid_loss)\n",
    "    print(f'Epoch {e} Train loss: {train_loss}; Valid loss: {valid_loss}; Learning rate: {current_lr}')\n",
    "\n",
    "    #choose best model\n",
    "    if valid_loss < best_loss:\n",
    "        best_loss = valid_loss\n",
    "        best_weights = deepcopy(model.state_dict())\n",
    "        no_improvements = 0\n",
    "    else:\n",
    "        no_improvements += 1\n",
    "\n",
    "    #early stopping\n",
    "    if no_improvements >= early_stop:\n",
    "        print(f'early stopping after epoch {e}')\n",
    "        break\n",
    "    \n",
    "    #step scheduler\n",
    "    scheduler.step(valid_loss)"
   ]
  },
  {
   "cell_type": "code",
   "execution_count": 37,
   "metadata": {},
   "outputs": [
    {
     "data": {
      "text/plain": [
       "[<matplotlib.lines.Line2D at 0x7f72380b9588>]"
      ]
     },
     "execution_count": 37,
     "metadata": {},
     "output_type": "execute_result"
    },
    {
     "data": {
      "image/png": "[encoded data removed]",
      "text/plain": [
       "<Figure size 432x288 with 1 Axes>"
      ]
     },
     "metadata": {},
     "output_type": "display_data"
    }
   ],
   "source": [
    "plt.plot(train_losses)\n",
    "plt.plot(valid_losses)"
   ]
  },
  {
   "cell_type": "code",
   "execution_count": 38,
   "metadata": {},
   "outputs": [
    {
     "data": {
      "text/plain": [
       "[<matplotlib.lines.Line2D at 0x7f7238151748>]"
      ]
     },
     "execution_count": 38,
     "metadata": {},
     "output_type": "execute_result"
    },
    {
     "data": {
      "image/png": "[encoded data removed]",
      "text/plain": [
       "<Figure size 432x288 with 1 Axes>"
      ]
     },
     "metadata": {},
     "output_type": "display_data"
    }
   ],
   "source": [
    "plt.plot(lrs)"
   ]
  },
  {
   "cell_type": "code",
   "execution_count": 41,
   "metadata": {},
   "outputs": [
    {
     "name": "stdout",
     "output_type": "stream",
     "text": [
      "Best validation loss: 0.8933734191894531\n"
     ]
    }
   ],
   "source": [
    "print(f'Best validation loss: {best_loss}')"
   ]
  },
  {
   "cell_type": "code",
   "execution_count": null,
   "metadata": {},
   "outputs": [],
   "source": []
  }
 ],
 "metadata": {
  "kernelspec": {
   "display_name": "Python 3",
   "language": "python",
   "name": "python3"
  },
  "language_info": {
   "codemirror_mode": {
    "name": "ipython",
    "version": 3
   },
   "file_extension": ".py",
   "mimetype": "text/x-python",
   "name": "python",
   "nbconvert_exporter": "python",
   "pygments_lexer": "ipython3",
   "version": "3.6.6"
  }
 },
 "nbformat": 4,
 "nbformat_minor": 2
}
