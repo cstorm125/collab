{
 "cells": [
  {
   "cell_type": "markdown",
   "metadata": {},
   "source": [
    "## Recommendation with MovieLens-100k"
   ]
  },
  {
   "cell_type": "markdown",
   "metadata": {},
   "source": [
    "We introduce two approaches for movie rating recommendation using [collaborative filtering](https://en.wikipedia.org/wiki/Collaborative_filtering) and deep learning as introduced in [Deep Neural Networks for YouTube Recommendations](https://static.googleusercontent.com/media/research.google.com/en//pubs/archive/45530.pdf). We use [MovieLens 100k](https://grouplens.org/datasets/movielens/100k/) (`ml-100k`) for our training and validation sets. We refer to [LibRec benchmarks](https://www.librec.net/release/v1.3/example.html) as public benchmarks."
   ]
  },
  {
   "cell_type": "markdown",
   "metadata": {},
   "source": [
    "## Imports"
   ]
  },
  {
   "cell_type": "code",
   "execution_count": null,
   "metadata": {},
   "outputs": [],
   "source": [
    "# #uncomment if you are running from google colab\n",
    "# !wget https://github.com/cstorm125/collab/archive/master.zip; unzip master\n",
    "# !mv collab-master/images .\n",
    "# !mv collab-master/data .\n",
    "# !ls"
   ]
  },
  {
   "cell_type": "code",
   "execution_count": 1,
   "metadata": {},
   "outputs": [],
   "source": [
    "%matplotlib inline\n",
    "\n",
    "import pandas as pd\n",
    "import numpy as np\n",
    "import matplotlib.pyplot as plt\n",
    "import random\n",
    "from tqdm import tqdm_notebook\n",
    "from copy import deepcopy\n",
    "\n",
    "import torch\n",
    "import torch.nn as nn\n",
    "import torch.nn.functional as F\n",
    "from torch.utils.data import DataLoader, Dataset\n",
    "device = torch.device(\"cuda:0\" if torch.cuda.is_available() else \"cpu\")\n",
    "\n",
    "data_path = 'data/ml-100k/'"
   ]
  },
  {
   "cell_type": "markdown",
   "metadata": {},
   "source": [
    "## Data Processing"
   ]
  },
  {
   "cell_type": "markdown",
   "metadata": {},
   "source": [
    "There are 5 dataset pairs for training and validation of `ml-100k` dataset. We normalize the user and item index to start from 0 to comply with Python's style. The training set consists of 80,000 user-item-rating tuples and the validation set consists of 20,000 such tuples."
   ]
  },
  {
   "cell_type": "code",
   "execution_count": 2,
   "metadata": {},
   "outputs": [],
   "source": [
    "val_idx = 1 #which dataset pair to use\n",
    "nb_users = 943 #total number of users\n",
    "nb_items = 1682 #total number of items"
   ]
  },
  {
   "cell_type": "code",
   "execution_count": 3,
   "metadata": {},
   "outputs": [
    {
     "data": {
      "text/plain": [
       "((80000, 4), (20000, 4))"
      ]
     },
     "execution_count": 3,
     "metadata": {},
     "output_type": "execute_result"
    }
   ],
   "source": [
    "train_df = pd.read_csv(f'{data_path}u{val_idx}.base',sep='\\t',header=None)\n",
    "train_df.columns = ['user_id','item_id','rating','ts']\n",
    "train_df['user_id'] = train_df['user_id'] -1 #start index at 0\n",
    "train_df['item_id'] = train_df['item_id'] -1\n",
    "valid_df = pd.read_csv(f'{data_path}u{val_idx}.test',sep='\\t',header=None)\n",
    "valid_df.columns = ['user_id','item_id','rating','ts']\n",
    "valid_df['user_id'] = valid_df['user_id'] -1 #start index at 0\n",
    "valid_df['item_id'] = valid_df['item_id'] -1\n",
    "train_df.shape, valid_df.shape"
   ]
  },
  {
   "cell_type": "markdown",
   "metadata": {},
   "source": [
    "We found that all users are in the training set so we should have no out-of-sample problem with the user embeddings."
   ]
  },
  {
   "cell_type": "code",
   "execution_count": 4,
   "metadata": {},
   "outputs": [
    {
     "data": {
      "text/plain": [
       "(943, 459)"
      ]
     },
     "execution_count": 4,
     "metadata": {},
     "output_type": "execute_result"
    }
   ],
   "source": [
    "#check number of unique users in both training and test set\n",
    "train_users = train_df.user_id.unique()\n",
    "valid_users = valid_df.user_id.unique()\n",
    "len(train_users),len(valid_users)"
   ]
  },
  {
   "cell_type": "code",
   "execution_count": 5,
   "metadata": {},
   "outputs": [
    {
     "data": {
      "text/plain": [
       "459"
      ]
     },
     "execution_count": 5,
     "metadata": {},
     "output_type": "execute_result"
    }
   ],
   "source": [
    "i = 0\n",
    "for u in valid_users:\n",
    "    if u in train_users: i+=1\n",
    "i"
   ]
  },
  {
   "cell_type": "markdown",
   "metadata": {},
   "source": [
    "However, we found that out of 1,410 items in the validation set only 1,378 items exist in the training set. This will affect when we predict ratings of those unseen items in the validation set."
   ]
  },
  {
   "cell_type": "code",
   "execution_count": 6,
   "metadata": {},
   "outputs": [
    {
     "data": {
      "text/plain": [
       "(1650, 1410)"
      ]
     },
     "execution_count": 6,
     "metadata": {},
     "output_type": "execute_result"
    }
   ],
   "source": [
    "train_items = train_df.item_id.unique()\n",
    "valid_items = valid_df.item_id.unique()\n",
    "len(train_items),len(valid_items)"
   ]
  },
  {
   "cell_type": "code",
   "execution_count": 7,
   "metadata": {},
   "outputs": [
    {
     "data": {
      "text/plain": [
       "1378"
      ]
     },
     "execution_count": 7,
     "metadata": {},
     "output_type": "execute_result"
    }
   ],
   "source": [
    "i = 0\n",
    "for u in valid_items:\n",
    "    if u in train_items: i+=1\n",
    "i"
   ]
  },
  {
   "cell_type": "markdown",
   "metadata": {},
   "source": [
    "## Dataset"
   ]
  },
  {
   "cell_type": "markdown",
   "metadata": {},
   "source": [
    "We create a Pytorch dataset object that returns the tuple of `(user,item,rating)` tensors based on the dataframe we read in. From those datasets, we can load data in batch by converting them to Pytorch dataloader objects. Here we set the batch size to 2000."
   ]
  },
  {
   "cell_type": "code",
   "execution_count": 8,
   "metadata": {},
   "outputs": [],
   "source": [
    "class CollabRatingDataset(Dataset):\n",
    "    def __init__(self, df, user_col=0, item_col=1, rating_col=2):\n",
    "        self.df = df\n",
    "        self.user_tensor = torch.tensor(self.df.iloc[:,user_col], dtype=torch.long, device = device)\n",
    "        self.item_tensor = torch.tensor(self.df.iloc[:,item_col], dtype=torch.long, device = device)\n",
    "        self.target_tensor = torch.tensor(self.df.iloc[:,rating_col], dtype=torch.float32, device = device)\n",
    "        \n",
    "    def __getitem__(self, index):\n",
    "        return(self.user_tensor[index], self.item_tensor[index], self.target_tensor[index])\n",
    "\n",
    "    def __len__(self):\n",
    "        return(self.user_tensor.shape[0])"
   ]
  },
  {
   "cell_type": "code",
   "execution_count": 9,
   "metadata": {},
   "outputs": [],
   "source": [
    "bs = 2000\n",
    "train_ds = CollabRatingDataset(train_df)\n",
    "train_dl = DataLoader(train_ds, batch_size=bs, shuffle=True, num_workers=4)\n",
    "valid_ds = CollabRatingDataset(valid_df)\n",
    "valid_dl = DataLoader(valid_ds, batch_size=bs, shuffle=True, num_workers=4)"
   ]
  },
  {
   "cell_type": "code",
   "execution_count": 10,
   "metadata": {},
   "outputs": [
    {
     "data": {
      "text/plain": [
       "(80000, 20000, 40, 10)"
      ]
     },
     "execution_count": 10,
     "metadata": {},
     "output_type": "execute_result"
    }
   ],
   "source": [
    "len(train_ds),len(valid_ds),len(train_dl),len(valid_dl)"
   ]
  },
  {
   "cell_type": "code",
   "execution_count": 11,
   "metadata": {},
   "outputs": [
    {
     "data": {
      "text/plain": [
       "(tensor([0, 0, 0]), tensor([0, 1, 2]), tensor([5., 3., 4.]))"
      ]
     },
     "execution_count": 11,
     "metadata": {},
     "output_type": "execute_result"
    }
   ],
   "source": [
    "train_ds[:3]"
   ]
  },
  {
   "cell_type": "code",
   "execution_count": 12,
   "metadata": {},
   "outputs": [
    {
     "data": {
      "text/plain": [
       "[tensor([  1,  86, 548,  ...,  43, 248, 220]),\n",
       " tensor([283, 180, 150,  ..., 248, 180,  58]),\n",
       " tensor([4., 5., 3.,  ..., 4., 3., 2.])]"
      ]
     },
     "execution_count": 12,
     "metadata": {},
     "output_type": "execute_result"
    }
   ],
   "source": [
    "next(iter(train_dl))"
   ]
  },
  {
   "cell_type": "markdown",
   "metadata": {},
   "source": [
    "## Collaborative Filtering"
   ]
  },
  {
   "cell_type": "markdown",
   "metadata": {},
   "source": [
    "Collaborative filtering is one of the most basic yet most powerful algorithm for recommendation. It is based on the premise that similar users will purchase similar items and vice versa. \n",
    "\n",
    "<img src='images/cf.gif'/>"
   ]
  },
  {
   "cell_type": "markdown",
   "metadata": {},
   "source": [
    "### Architecture"
   ]
  },
  {
   "cell_type": "markdown",
   "metadata": {},
   "source": [
    "The simplest form of collaborative filtering consists of the following elements:\n",
    "\n",
    "1. **Item Embedding Layer** to convert item index to vectors\n",
    "2. **User Embedding Layer** to convert user index to vectors\n",
    "3. **Item Bias** to be added to the dot product\n",
    "4. **User Bias** to be added to the dot product\n",
    "\n",
    "We feed each pair of user and item indice into the layers above the perform the following operations to get the predicted rating:\n",
    "\n",
    "$$rating_{predicted}=\\sum{(E_{item} * E_{user})} + B_{user} + B_{item}$$\n",
    "\n",
    "where $E$ stands for embedding activations and $B$ for biases."
   ]
  },
  {
   "cell_type": "code",
   "execution_count": 89,
   "metadata": {},
   "outputs": [],
   "source": [
    "class CollabNet(nn.Module):\n",
    "    def __init__(self, config):\n",
    "        super(CollabNet, self).__init__()\n",
    "        #hyperparameters\n",
    "        self.config = config\n",
    "        self.nb_users = config['nb_users']\n",
    "        self.nb_items = config['nb_items']\n",
    "        self.emb_sz = config['emb_sz']\n",
    "        self.y_range = config['y_range']\n",
    "\n",
    "        #embeddings\n",
    "        self.emb_user = nn.Embedding(num_embeddings=self.nb_users, embedding_dim=self.emb_sz)\n",
    "        self.user_bias = nn.Embedding(num_embeddings=self.nb_users, embedding_dim=1)\n",
    "        self.emb_item = nn.Embedding(num_embeddings=self.nb_items, embedding_dim=self.emb_sz)\n",
    "        self.item_bias = nn.Embedding(num_embeddings=self.nb_items, embedding_dim=1)\n",
    "        \n",
    "\n",
    "    def forward(self, user_idx, item_idx):\n",
    "        user_emb = self.emb_user(user_idx)\n",
    "        item_emb = self.emb_item(item_idx)\n",
    "        dot = (user_emb * item_emb).sum(1)\n",
    "        x = dot + self.user_bias(user_idx).squeeze() + self.item_bias(item_idx).squeeze()\n",
    "        x = torch.sigmoid(x)\n",
    "        x = x * (self.y_range[1] - self.y_range[0]) + self.y_range[0]\n",
    "        return(x)"
   ]
  },
  {
   "cell_type": "code",
   "execution_count": 90,
   "metadata": {},
   "outputs": [
    {
     "data": {
      "text/plain": [
       "CollabNet(\n",
       "  (emb_user): Embedding(943, 100)\n",
       "  (user_bias): Embedding(943, 1)\n",
       "  (emb_item): Embedding(1682, 100)\n",
       "  (item_bias): Embedding(1682, 1)\n",
       ")"
      ]
     },
     "execution_count": 90,
     "metadata": {},
     "output_type": "execute_result"
    }
   ],
   "source": [
    "config = {\n",
    "    'nb_users':943, #how many unique users\n",
    "    'nb_items':1682, #how many unique items\n",
    "    'emb_sz':100, #size of embedding vector\n",
    "    'y_range': [0.8,5.2]} #range of output\n",
    "model = CollabNet(config)\n",
    "model"
   ]
  },
  {
   "cell_type": "markdown",
   "metadata": {},
   "source": [
    "### Training"
   ]
  },
  {
   "cell_type": "code",
   "execution_count": 91,
   "metadata": {},
   "outputs": [],
   "source": [
    "#hyperparameters\n",
    "bs = 2000 #batch size\n",
    "lr = 5e-2 #learning rate\n",
    "wd = 1e-1 #weight decay parameter\n",
    "nb_epoch = 100 #how many epochs to train\n",
    "reduce_lr = 1 #reduce learning rate if loss stagnates more than x epochs\n",
    "early_stop = 2 #stop if validation loss doesnt improve for x epochs\n",
    "\n",
    "config = {\n",
    "    'nb_users':943, #how many unique users\n",
    "    'nb_items':1682, #how many unique items\n",
    "    'emb_sz':100, #size of embedding vector\n",
    "    'y_range': [0.8,5.2]} #range of output\n",
    "\n",
    "#recording\n",
    "lrs = []\n",
    "train_losses=[]\n",
    "valid_losses = []\n",
    "best_loss = np.inf\n",
    "best_weights = None\n",
    "\n",
    "#datasets/loaders\n",
    "train_ds = CollabRatingDataset(train_df)\n",
    "train_dl = DataLoader(train_ds, batch_size=bs, shuffle=True, num_workers=4)\n",
    "valid_ds = CollabRatingDataset(valid_df)\n",
    "valid_dl = DataLoader(valid_ds, batch_size=bs, shuffle=True, num_workers=4)\n",
    "\n",
    "#model\n",
    "model = CollabNet(config)\n",
    "crit = nn.MSELoss(reduction='sum')\n",
    "optim = torch.optim.Adam(model.parameters(), lr=lr, betas=(0.9,0.999), weight_decay=wd)\n",
    "scheduler = torch.optim.lr_scheduler.ReduceLROnPlateau(optim, mode='min',factor=0.5, threshold=1e-2,\n",
    "                                                       patience=reduce_lr, min_lr=lr/10)"
   ]
  },
  {
   "cell_type": "code",
   "execution_count": 92,
   "metadata": {},
   "outputs": [
    {
     "data": {
      "application/vnd.jupyter.widget-view+json": {
       "model_id": "97d1bd94dd6044e6989346c9ac1f6598",
       "version_major": 2,
       "version_minor": 0
      },
      "text/plain": [
       "HBox(children=(IntProgress(value=0), HTML(value='')))"
      ]
     },
     "metadata": {},
     "output_type": "display_data"
    },
    {
     "name": "stdout",
     "output_type": "stream",
     "text": [
      "Epoch 0 Train loss: 5.247108984375; Valid loss: 4.87906435546875; Learning rate: 0.05\n",
      "Epoch 1 Train loss: 3.874303039550781; Valid loss: 3.9522217041015626; Learning rate: 0.05\n",
      "Epoch 2 Train loss: 2.8927701171875; Valid loss: 3.12446787109375; Learning rate: 0.05\n",
      "Epoch 3 Train loss: 2.233895837402344; Valid loss: 2.6167475830078124; Learning rate: 0.05\n",
      "Epoch 4 Train loss: 1.7319782623291016; Valid loss: 2.1589929443359375; Learning rate: 0.05\n",
      "Epoch 5 Train loss: 1.2086614974975587; Valid loss: 1.6773607055664062; Learning rate: 0.05\n",
      "Epoch 6 Train loss: 0.7006285461425781; Valid loss: 1.281966796875; Learning rate: 0.05\n",
      "Epoch 7 Train loss: 0.38581652221679685; Valid loss: 1.0996696044921874; Learning rate: 0.05\n",
      "Epoch 8 Train loss: 0.24723770370483397; Valid loss: 1.0499613891601562; Learning rate: 0.05\n",
      "Epoch 9 Train loss: 0.18278679313659668; Valid loss: 1.0257831604003906; Learning rate: 0.05\n",
      "Epoch 10 Train loss: 0.1540008144378662; Valid loss: 1.0201988037109375; Learning rate: 0.05\n",
      "Epoch 11 Train loss: 0.14562632637023926; Valid loss: 1.0142620483398437; Learning rate: 0.05\n",
      "Epoch 12 Train loss: 0.1444087926864624; Valid loss: 1.0081182739257812; Learning rate: 0.05\n",
      "Epoch 13 Train loss: 0.1467384521484375; Valid loss: 1.0058843200683594; Learning rate: 0.05\n",
      "Epoch 14 Train loss: 0.11959462108612061; Valid loss: 0.9766601928710937; Learning rate: 0.025\n",
      "Epoch 15 Train loss: 0.07847653322219848; Valid loss: 0.9764218383789063; Learning rate: 0.025\n",
      "Epoch 16 Train loss: 0.07197727756500244; Valid loss: 0.9754350280761719; Learning rate: 0.025\n",
      "Epoch 17 Train loss: 0.059764139270782474; Valid loss: 0.9735007446289062; Learning rate: 0.0125\n",
      "Epoch 18 Train loss: 0.056421201610565186; Valid loss: 0.9733610656738281; Learning rate: 0.0125\n",
      "Epoch 19 Train loss: 0.051879502296447756; Valid loss: 0.9719110961914063; Learning rate: 0.00625\n",
      "Epoch 20 Train loss: 0.05230274181365967; Valid loss: 0.9713225158691406; Learning rate: 0.00625\n",
      "Epoch 21 Train loss: 0.05177703342437744; Valid loss: 0.9707421508789063; Learning rate: 0.005\n",
      "Epoch 22 Train loss: 0.05213754549026489; Valid loss: 0.970455908203125; Learning rate: 0.005\n",
      "Epoch 23 Train loss: 0.0524892991065979; Valid loss: 0.9704133972167969; Learning rate: 0.005\n",
      "Epoch 24 Train loss: 0.05266734809875488; Valid loss: 0.9699118530273437; Learning rate: 0.005\n",
      "Epoch 25 Train loss: 0.05277037353515625; Valid loss: 0.96994375; Learning rate: 0.005\n",
      "Epoch 26 Train loss: 0.05283148918151855; Valid loss: 0.9698300659179687; Learning rate: 0.005\n",
      "Epoch 27 Train loss: 0.05287642154693604; Valid loss: 0.9697492858886719; Learning rate: 0.005\n",
      "Epoch 28 Train loss: 0.052837875938415525; Valid loss: 0.9698058654785157; Learning rate: 0.005\n",
      "Epoch 29 Train loss: 0.05274802474975586; Valid loss: 0.9694879211425781; Learning rate: 0.005\n",
      "Epoch 30 Train loss: 0.052749502849578855; Valid loss: 0.9693186889648437; Learning rate: 0.005\n",
      "Epoch 31 Train loss: 0.0527228494644165; Valid loss: 0.9696509704589844; Learning rate: 0.005\n",
      "Epoch 32 Train loss: 0.05263855991363525; Valid loss: 0.9695434692382813; Learning rate: 0.005\n",
      "early stopping after epoch 32\n"
     ]
    }
   ],
   "source": [
    "#training\n",
    "for e in tqdm_notebook(range(nb_epoch)): \n",
    "    #train\n",
    "    model.train()\n",
    "    train_loss = 0\n",
    "    for u,i,r in train_dl:\n",
    "        #prediction\n",
    "        r_pred = model(u,i)\n",
    "        r = r.squeeze()\n",
    "        \n",
    "        #loss\n",
    "        loss = crit(r_pred,r)\n",
    "        \n",
    "        #backprop\n",
    "        optim.zero_grad()\n",
    "        loss.backward()\n",
    "        optim.step()\n",
    "        train_loss+= loss.detach().item()\n",
    "    #record\n",
    "    current_lr = scheduler.optimizer.param_groups[0]['lr']\n",
    "    lrs.append(current_lr)\n",
    "    train_loss /= len(train_ds)\n",
    "    train_losses.append(train_loss)\n",
    "    \n",
    "    #valid\n",
    "    model.eval()\n",
    "    valid_loss = 0\n",
    "    for u,i,r in valid_dl:\n",
    "        r_pred = model(u,i)\n",
    "        r = r.squeeze()\n",
    "        loss = crit(r_pred,r)\n",
    "        valid_loss+=loss.detach().item()\n",
    "    valid_loss/=len(valid_ds)\n",
    "    #record\n",
    "    valid_losses.append(valid_loss)\n",
    "    print(f'Epoch {e} Train loss: {train_loss}; Valid loss: {valid_loss}; Learning rate: {current_lr}')\n",
    "\n",
    "    #choose best model\n",
    "    if valid_loss < best_loss:\n",
    "        best_loss = valid_loss\n",
    "        best_weights = deepcopy(model.state_dict())\n",
    "        no_improvements = 0\n",
    "    else:\n",
    "        no_improvements += 1\n",
    "\n",
    "    #early stopping\n",
    "    if no_improvements >= early_stop:\n",
    "        print(f'early stopping after epoch {e}')\n",
    "        break\n",
    "    \n",
    "    #step scheduler\n",
    "    scheduler.step(valid_loss)"
   ]
  },
  {
   "cell_type": "code",
   "execution_count": 93,
   "metadata": {},
   "outputs": [
    {
     "data": {
      "text/plain": [
       "[<matplotlib.lines.Line2D at 0x7fac9453e518>]"
      ]
     },
     "execution_count": 93,
     "metadata": {},
     "output_type": "execute_result"
    },
    {
     "data": {
      "image/png": "[encoded data removed]",
      "text/plain": [
       "<Figure size 432x288 with 1 Axes>"
      ]
     },
     "metadata": {},
     "output_type": "display_data"
    }
   ],
   "source": [
    "plt.plot(train_losses)\n",
    "plt.plot(valid_losses)"
   ]
  },
  {
   "cell_type": "code",
   "execution_count": 94,
   "metadata": {},
   "outputs": [
    {
     "data": {
      "text/plain": [
       "[<matplotlib.lines.Line2D at 0x7fac942aa860>]"
      ]
     },
     "execution_count": 94,
     "metadata": {},
     "output_type": "execute_result"
    },
    {
     "data": {
      "image/png": "[encoded data removed]",
      "text/plain": [
       "<Figure size 432x288 with 1 Axes>"
      ]
     },
     "metadata": {},
     "output_type": "display_data"
    }
   ],
   "source": [
    "plt.plot(lrs)"
   ]
  },
  {
   "cell_type": "code",
   "execution_count": 95,
   "metadata": {},
   "outputs": [
    {
     "name": "stdout",
     "output_type": "stream",
     "text": [
      "Best RMSE: 0.9845398361492763\n"
     ]
    }
   ],
   "source": [
    "print(f'Best RMSE: {np.sqrt(best_loss)}')"
   ]
  },
  {
   "cell_type": "markdown",
   "metadata": {},
   "source": [
    "### Item Embeddings"
   ]
  },
  {
   "cell_type": "markdown",
   "metadata": {},
   "source": [
    "The useful thing about having item bias is that we can use it to rank our items, in this case, movies. Movies with more positive bias values are considered to be the \"better\" ones."
   ]
  },
  {
   "cell_type": "code",
   "execution_count": 96,
   "metadata": {},
   "outputs": [
    {
     "data": {
      "text/html": [
       "<div>\n",
       "<style scoped>\n",
       "    .dataframe tbody tr th:only-of-type {\n",
       "        vertical-align: middle;\n",
       "    }\n",
       "\n",
       "    .dataframe tbody tr th {\n",
       "        vertical-align: top;\n",
       "    }\n",
       "\n",
       "    .dataframe thead th {\n",
       "        text-align: right;\n",
       "    }\n",
       "</style>\n",
       "<table border=\"1\" class=\"dataframe\">\n",
       "  <thead>\n",
       "    <tr style=\"text-align: right;\">\n",
       "      <th></th>\n",
       "      <th>item_id</th>\n",
       "      <th>title</th>\n",
       "    </tr>\n",
       "  </thead>\n",
       "  <tbody>\n",
       "    <tr>\n",
       "      <th>0</th>\n",
       "      <td>0</td>\n",
       "      <td>Toy Story (1995)</td>\n",
       "    </tr>\n",
       "    <tr>\n",
       "      <th>1</th>\n",
       "      <td>1</td>\n",
       "      <td>GoldenEye (1995)</td>\n",
       "    </tr>\n",
       "    <tr>\n",
       "      <th>2</th>\n",
       "      <td>2</td>\n",
       "      <td>Four Rooms (1995)</td>\n",
       "    </tr>\n",
       "    <tr>\n",
       "      <th>3</th>\n",
       "      <td>3</td>\n",
       "      <td>Get Shorty (1995)</td>\n",
       "    </tr>\n",
       "    <tr>\n",
       "      <th>4</th>\n",
       "      <td>4</td>\n",
       "      <td>Copycat (1995)</td>\n",
       "    </tr>\n",
       "  </tbody>\n",
       "</table>\n",
       "</div>"
      ],
      "text/plain": [
       "   item_id              title\n",
       "0        0   Toy Story (1995)\n",
       "1        1   GoldenEye (1995)\n",
       "2        2  Four Rooms (1995)\n",
       "3        3  Get Shorty (1995)\n",
       "4        4     Copycat (1995)"
      ]
     },
     "execution_count": 96,
     "metadata": {},
     "output_type": "execute_result"
    }
   ],
   "source": [
    "item_df = pd.read_csv(f'{data_path}u.item', delimiter='|', encoding='latin-1', header=None,\n",
    "                    names=['item_id', 'title', 'date', 'N', 'url', *[f'g{i}' for i in range(19)]])\n",
    "item_df = item_df[['item_id','title']].copy()\n",
    "item_df['item_id'] = item_df.item_id.map(lambda x: int(x)-1)\n",
    "item_df.head()"
   ]
  },
  {
   "cell_type": "code",
   "execution_count": 97,
   "metadata": {},
   "outputs": [],
   "source": [
    "movie_ranking = []\n",
    "for item_id in model.item_bias.weight.data.squeeze().argsort().cpu().numpy():\n",
    "    movie_ranking.append((item_df.iloc[item_id,1],model.item_bias.weight.data[item_id].item()))"
   ]
  },
  {
   "cell_type": "code",
   "execution_count": 101,
   "metadata": {},
   "outputs": [
    {
     "data": {
      "text/plain": [
       "[(\"Schindler's List (1993)\", 1.397660255432129),\n",
       " ('Shawshank Redemption, The (1994)', 1.3316079378128052),\n",
       " ('Usual Suspects, The (1995)', 1.321493148803711),\n",
       " ('Casablanca (1942)', 1.3207446336746216),\n",
       " ('Star Wars (1977)', 1.3201382160186768),\n",
       " ('Wrong Trousers, The (1993)', 1.2428542375564575),\n",
       " ('Raiders of the Lost Ark (1981)', 1.1953396797180176),\n",
       " ('Boot, Das (1981)', 1.1946910619735718),\n",
       " ('Titanic (1997)', 1.1681171655654907),\n",
       " ('Godfather, The (1972)', 1.1613645553588867)]"
      ]
     },
     "execution_count": 101,
     "metadata": {},
     "output_type": "execute_result"
    }
   ],
   "source": [
    "#best rated movies\n",
    "movie_ranking[::-1][:10]"
   ]
  },
  {
   "cell_type": "code",
   "execution_count": 100,
   "metadata": {},
   "outputs": [
    {
     "data": {
      "text/plain": [
       "[('Children of the Corn: The Gathering (1996)', -1.0702285766601562),\n",
       " ('Crow: City of Angels, The (1996)', -0.9223993420600891),\n",
       " ('Mortal Kombat: Annihilation (1997)', -0.8909540176391602),\n",
       " ('Bio-Dome (1996)', -0.8781499266624451),\n",
       " ('Island of Dr. Moreau, The (1996)', -0.8648573160171509),\n",
       " (\"McHale's Navy (1997)\", -0.8614532947540283),\n",
       " ('Leave It to Beaver (1997)', -0.814452052116394),\n",
       " ('Speed 2: Cruise Control (1997)', -0.8006588220596313),\n",
       " (\"Joe's Apartment (1996)\", -0.7971066236495972),\n",
       " ('Free Willy 3: The Rescue (1997)', -0.7965894937515259)]"
      ]
     },
     "execution_count": 100,
     "metadata": {},
     "output_type": "execute_result"
    }
   ],
   "source": [
    "#worst rated movies\n",
    "movie_ranking[:10]"
   ]
  },
  {
   "cell_type": "markdown",
   "metadata": {},
   "source": [
    "## Deep Learning"
   ]
  },
  {
   "cell_type": "markdown",
   "metadata": {},
   "source": [
    "### Architecture"
   ]
  },
  {
   "cell_type": "markdown",
   "metadata": {},
   "source": [
    "The architecture as described in [Deep Neural Networks for YouTube Recommendations](https://static.googleusercontent.com/media/research.google.com/en//pubs/archive/45530.pdf) consists of two parts:\n",
    "1. **Embedding Layers** to convert user and item indice to embedding vectors\n",
    "2. **Fully-connected Layers** to take input of concatenated embedding vectors and output the rating"
   ]
  },
  {
   "cell_type": "code",
   "execution_count": 56,
   "metadata": {},
   "outputs": [],
   "source": [
    "class ConcatNet(nn.Module):\n",
    "    def __init__(self, config):\n",
    "        super(ConcatNet, self).__init__()\n",
    "        #hyperparameters\n",
    "        self.config = config\n",
    "        self.nb_users = config['nb_users']\n",
    "        self.nb_items = config['nb_items']\n",
    "        self.emb_sz = config['emb_sz']\n",
    "        self.emb_p = config['emb_p']\n",
    "        self.fc_sz = config['fc_sz']\n",
    "        self.ps = config['ps']\n",
    "        self.y_range = config['y_range']\n",
    "\n",
    "        #embeddings\n",
    "        self.emb_user = nn.Sequential(\n",
    "            nn.Embedding(num_embeddings=self.nb_users, embedding_dim=self.emb_sz),\n",
    "            nn.Dropout(p=self.emb_p))\n",
    "        self.emb_item = nn.Sequential(\n",
    "            nn.Embedding(num_embeddings=self.nb_items, embedding_dim=self.emb_sz),\n",
    "            nn.Dropout(p=self.emb_p))\n",
    "\n",
    "        #fully-connected layers\n",
    "        fc_layers_list = []\n",
    "        for ni,nf,p in zip(self.fc_sz[:-1], self.fc_sz[1:], self.ps):\n",
    "            fc_layers_list.append(nn.Linear(ni, nf))\n",
    "            fc_layers_list.append(nn.ReLU(inplace=True))\n",
    "            fc_layers_list.append(nn.BatchNorm1d(nf))\n",
    "            fc_layers_list.append(nn.Dropout(p=p))\n",
    "        self.fc_layers = nn.Sequential(*fc_layers_list)\n",
    "\n",
    "        #output head\n",
    "        self.head = torch.nn.Linear(in_features=self.fc_sz[-1], out_features=1)\n",
    "\n",
    "    def forward(self, user_idx, item_idx):\n",
    "        user_emb = self.emb_user(user_idx)\n",
    "        item_emb = self.emb_item(item_idx)\n",
    "        x = torch.cat([user_emb, item_emb], dim=1)\n",
    "        x = self.fc_layers(x)\n",
    "        x = torch.sigmoid(self.head(x))\n",
    "        x = x * (self.y_range[1] - self.y_range[0]) + self.y_range[0]\n",
    "        return(x)"
   ]
  },
  {
   "cell_type": "code",
   "execution_count": 57,
   "metadata": {},
   "outputs": [
    {
     "data": {
      "text/plain": [
       "ConcatNet(\n",
       "  (emb_user): Sequential(\n",
       "    (0): Embedding(943, 50)\n",
       "    (1): Dropout(p=0.05)\n",
       "  )\n",
       "  (emb_item): Sequential(\n",
       "    (0): Embedding(1682, 50)\n",
       "    (1): Dropout(p=0.05)\n",
       "  )\n",
       "  (fc_layers): Sequential(\n",
       "    (0): Linear(in_features=100, out_features=512, bias=True)\n",
       "    (1): ReLU(inplace)\n",
       "    (2): BatchNorm1d(512, eps=1e-05, momentum=0.1, affine=True, track_running_stats=True)\n",
       "    (3): Dropout(p=0.7)\n",
       "    (4): Linear(in_features=512, out_features=256, bias=True)\n",
       "    (5): ReLU(inplace)\n",
       "    (6): BatchNorm1d(256, eps=1e-05, momentum=0.1, affine=True, track_running_stats=True)\n",
       "    (7): Dropout(p=0.35)\n",
       "  )\n",
       "  (head): Linear(in_features=256, out_features=1, bias=True)\n",
       ")"
      ]
     },
     "execution_count": 57,
     "metadata": {},
     "output_type": "execute_result"
    }
   ],
   "source": [
    "config = {\n",
    "    'nb_users':943, #how many unique users\n",
    "    'nb_items':1682, #how many unique items\n",
    "    'emb_sz':50, #size of embedding vector\n",
    "    'emb_p': 0.05, #dropout for embedding\n",
    "    'fc_sz': [100, 512, 256], #size of fully-connected layers\n",
    "    'ps': [0.7,0.35], #dropout for fully-connected layers\n",
    "    'y_range': [0.8,5.2]} #range of output\n",
    "model = ConcatNet(config)\n",
    "model"
   ]
  },
  {
   "cell_type": "markdown",
   "metadata": {},
   "source": [
    "### Training"
   ]
  },
  {
   "cell_type": "code",
   "execution_count": 28,
   "metadata": {},
   "outputs": [],
   "source": [
    "#hyperparameters\n",
    "bs = 2000 #batch size\n",
    "lr = 1e-2 #learning rate\n",
    "wd = 5e-1 #weight decay parameter\n",
    "nb_epoch = 100 #how many epochs to train\n",
    "reduce_lr = 1 #reduce learning rate if loss stagnates more than x epochs\n",
    "early_stop = 2 #stop if validation loss doesnt improve for x epochs\n",
    "\n",
    "config = {\n",
    "    'nb_users':943, #how many unique users\n",
    "    'nb_items':1682, #how many unique items\n",
    "    'emb_sz':50, #size of embedding vector\n",
    "    'emb_p': 0.05, #dropout for embedding\n",
    "    'fc_sz': [100, 512, 256], #size of fully-connected layers\n",
    "    'ps': [0.7,0.35], #dropout for fully-connected layers\n",
    "    'y_range': [0.8,5.2]} #range of output\n",
    "\n",
    "#recording\n",
    "lrs = []\n",
    "train_losses=[]\n",
    "valid_losses = []\n",
    "best_loss = np.inf\n",
    "best_weights = None\n",
    "\n",
    "#datasets/loaders\n",
    "train_ds = CollabRatingDataset(train_df)\n",
    "train_dl = DataLoader(train_ds, batch_size=bs, shuffle=True, num_workers=4)\n",
    "valid_ds = CollabRatingDataset(valid_df)\n",
    "valid_dl = DataLoader(valid_ds, batch_size=bs, shuffle=True, num_workers=4)\n",
    "\n",
    "#model\n",
    "model = ConcatNet(config)\n",
    "crit = nn.MSELoss(reduction='sum')\n",
    "optim = torch.optim.Adam(model.parameters(), lr=lr, betas=(0.9,0.999), weight_decay=wd)\n",
    "scheduler = torch.optim.lr_scheduler.ReduceLROnPlateau(optim, mode='min',factor=0.5, threshold=1e-3,\n",
    "                                                       patience=reduce_lr, min_lr=lr/10)"
   ]
  },
  {
   "cell_type": "code",
   "execution_count": 68,
   "metadata": {},
   "outputs": [
    {
     "data": {
      "application/vnd.jupyter.widget-view+json": {
       "model_id": "06b66adfd6e548a1a78890fc7b83fbe5",
       "version_major": 2,
       "version_minor": 0
      },
      "text/plain": [
       "HBox(children=(IntProgress(value=0), HTML(value='')))"
      ]
     },
     "metadata": {},
     "output_type": "display_data"
    },
    {
     "name": "stdout",
     "output_type": "stream",
     "text": [
      "Epoch 0 Train loss: 1.2494271759033204; Valid loss: 1.16272138671875; Learning rate: 0.01\n",
      "Epoch 1 Train loss: 1.0623522888183594; Valid loss: 1.0476969909667968; Learning rate: 0.01\n",
      "Epoch 2 Train loss: 0.9629759887695313; Valid loss: 0.965164599609375; Learning rate: 0.01\n",
      "Epoch 3 Train loss: 0.9165641418457031; Valid loss: 0.9421045227050782; Learning rate: 0.01\n",
      "Epoch 4 Train loss: 0.8972671981811523; Valid loss: 0.9218044006347657; Learning rate: 0.01\n",
      "Epoch 5 Train loss: 0.8800409591674805; Valid loss: 0.9142086181640625; Learning rate: 0.01\n",
      "Epoch 6 Train loss: 0.8720957107543945; Valid loss: 0.9096045288085938; Learning rate: 0.01\n",
      "Epoch 7 Train loss: 0.8633601898193359; Valid loss: 0.9045002868652344; Learning rate: 0.01\n",
      "Epoch 8 Train loss: 0.8547678497314453; Valid loss: 0.8988922485351563; Learning rate: 0.01\n",
      "Epoch 9 Train loss: 0.8445782485961915; Valid loss: 0.8834912292480469; Learning rate: 0.01\n",
      "Epoch 10 Train loss: 0.8309583099365234; Valid loss: 0.8833601013183594; Learning rate: 0.01\n",
      "Epoch 11 Train loss: 0.824920654296875; Valid loss: 0.8789923156738281; Learning rate: 0.01\n",
      "Epoch 12 Train loss: 0.8171329483032227; Valid loss: 0.8813946228027344; Learning rate: 0.01\n",
      "Epoch 13 Train loss: 0.8148255752563477; Valid loss: 0.8763505004882812; Learning rate: 0.01\n",
      "Epoch 14 Train loss: 0.8099836547851562; Valid loss: 0.877117724609375; Learning rate: 0.01\n",
      "Epoch 15 Train loss: 0.8077980667114257; Valid loss: 0.8762905151367187; Learning rate: 0.01\n",
      "Epoch 16 Train loss: 0.7720174560546875; Valid loss: 0.8600564880371093; Learning rate: 0.005\n",
      "Epoch 17 Train loss: 0.7602281387329102; Valid loss: 0.8589988830566406; Learning rate: 0.005\n",
      "Epoch 18 Train loss: 0.7550630508422852; Valid loss: 0.86523662109375; Learning rate: 0.005\n",
      "Epoch 19 Train loss: 0.7526352233886718; Valid loss: 0.8662591064453125; Learning rate: 0.005\n",
      "early stopping after epoch 19\n"
     ]
    }
   ],
   "source": [
    "#training\n",
    "for e in tqdm_notebook(range(nb_epoch)): \n",
    "    #train\n",
    "    model.train()\n",
    "    train_loss = 0\n",
    "    for u,i,r in train_dl:\n",
    "        #prediction\n",
    "        r_pred = model(u,i)\n",
    "        r = r[:,None]\n",
    "        \n",
    "        #loss\n",
    "        loss = crit(r_pred,r)\n",
    "        \n",
    "        #backprop\n",
    "        optim.zero_grad()\n",
    "        loss.backward()\n",
    "        optim.step()\n",
    "        train_loss+= loss.detach().item()\n",
    "    #record\n",
    "    current_lr = scheduler.optimizer.param_groups[0]['lr']\n",
    "    lrs.append(current_lr)\n",
    "    train_loss /= len(train_ds)\n",
    "    train_losses.append(train_loss)\n",
    "    \n",
    "    #valid\n",
    "    model.eval()\n",
    "    valid_loss = 0\n",
    "    for u,i,r in valid_dl:\n",
    "        r_pred = model(u,i)\n",
    "        r = r[:,None]\n",
    "        loss = crit(r_pred,r)\n",
    "        valid_loss+=loss.detach().item()\n",
    "    valid_loss/=len(valid_ds)\n",
    "    #record\n",
    "    valid_losses.append(valid_loss)\n",
    "    print(f'Epoch {e} Train loss: {train_loss}; Valid loss: {valid_loss}; Learning rate: {current_lr}')\n",
    "\n",
    "    #choose best model\n",
    "    if valid_loss < best_loss:\n",
    "        best_loss = valid_loss\n",
    "        best_weights = deepcopy(model.state_dict())\n",
    "        no_improvements = 0\n",
    "    else:\n",
    "        no_improvements += 1\n",
    "\n",
    "    #early stopping\n",
    "    if no_improvements >= early_stop:\n",
    "        print(f'early stopping after epoch {e}')\n",
    "        break\n",
    "    \n",
    "    #step scheduler\n",
    "    scheduler.step(valid_loss)"
   ]
  },
  {
   "cell_type": "code",
   "execution_count": 69,
   "metadata": {},
   "outputs": [
    {
     "data": {
      "text/plain": [
       "[<matplotlib.lines.Line2D at 0x7f3acdb60860>]"
      ]
     },
     "execution_count": 69,
     "metadata": {},
     "output_type": "execute_result"
    },
    {
     "data": {
      "image/png": "[encoded data removed]",
      "text/plain": [
       "<Figure size 432x288 with 1 Axes>"
      ]
     },
     "metadata": {},
     "output_type": "display_data"
    }
   ],
   "source": [
    "plt.plot(train_losses)\n",
    "plt.plot(valid_losses)"
   ]
  },
  {
   "cell_type": "code",
   "execution_count": 70,
   "metadata": {},
   "outputs": [
    {
     "data": {
      "text/plain": [
       "[<matplotlib.lines.Line2D at 0x7f3acc0b3a58>]"
      ]
     },
     "execution_count": 70,
     "metadata": {},
     "output_type": "execute_result"
    },
    {
     "data": {
      "image/png": "[encoded data removed]",
      "text/plain": [
       "<Figure size 432x288 with 1 Axes>"
      ]
     },
     "metadata": {},
     "output_type": "display_data"
    }
   ],
   "source": [
    "plt.plot(lrs)"
   ]
  },
  {
   "cell_type": "code",
   "execution_count": 71,
   "metadata": {},
   "outputs": [
    {
     "name": "stdout",
     "output_type": "stream",
     "text": [
      "Best RMSE: 0.9268219262925541\n"
     ]
    }
   ],
   "source": [
    "print(f'Best RMSE: {np.sqrt(best_loss)}')"
   ]
  }
 ],
 "metadata": {
  "kernelspec": {
   "display_name": "Python 3",
   "language": "python",
   "name": "python3"
  },
  "language_info": {
   "codemirror_mode": {
    "name": "ipython",
    "version": 3
   },
   "file_extension": ".py",
   "mimetype": "text/x-python",
   "name": "python",
   "nbconvert_exporter": "python",
   "pygments_lexer": "ipython3",
   "version": "3.6.8"
  }
 },
 "nbformat": 4,
 "nbformat_minor": 2
}
